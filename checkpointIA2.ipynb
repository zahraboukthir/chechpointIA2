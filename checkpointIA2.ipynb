{
 "cells": [
  {
   "cell_type": "code",
   "execution_count": 11,
   "id": "11a853b3",
   "metadata": {},
   "outputs": [
    {
     "name": "stdout",
     "output_type": "stream",
     "text": [
      "[2002, 2009, 2016, 2023, 2037, 2044, 2051, 2058, 2072, 2079, 2086, 2093, 2107, 2114, 2121, 2128, 2142, 2149, 2156, 2163, 2177, 2184, 2191, 2198, 2212, 2219, 2226, 2233, 2247, 2254, 2261, 2268, 2282, 2289, 2296, 2303, 2317, 2324, 2331, 2338, 2352, 2359, 2366, 2373, 2387, 2394, 2401, 2408, 2422, 2429, 2436, 2443, 2457, 2464, 2471, 2478, 2492, 2499, 2506, 2513, 2527, 2534, 2541, 2548, 2562, 2569, 2576, 2583, 2597, 2604, 2611, 2618, 2632, 2639, 2646, 2653, 2667, 2674, 2681, 2688, 2702, 2709, 2716, 2723, 2737, 2744, 2751, 2758, 2772, 2779, 2786, 2793, 2807, 2814, 2821, 2828, 2842, 2849, 2856, 2863, 2877, 2884, 2891, 2898, 2912, 2919, 2926, 2933, 2947, 2954, 2961, 2968, 2982, 2989, 2996, 3003, 3017, 3024, 3031, 3038, 3052, 3059, 3066, 3073, 3087, 3094, 3101, 3108, 3122, 3129, 3136, 3143, 3157, 3164, 3171, 3178, 3192, 3199]\n"
     ]
    }
   ],
   "source": [
    "# Question 1\n",
    "l=[]\n",
    "for i in range( 2000 , 3200):\n",
    "    if ((i%7== 0) and (i%5!=0)):\n",
    "        l.append(i)\n",
    "print(l)        "
   ]
  },
  {
   "cell_type": "code",
   "execution_count": 24,
   "id": "3e6fb7e4",
   "metadata": {},
   "outputs": [
    {
     "name": "stdout",
     "output_type": "stream",
     "text": [
      "Enter a number: 5\n",
      "The factorial of 5 is 120\n"
     ]
    }
   ],
   "source": [
    "# Question 2\n",
    "n = int(input('Enter a number: '))\n",
    "f=1\n",
    "if n < 0:\n",
    "    print(\"Sorry, factorial does not exist for negative numbers\")\n",
    "elif n == 0:\n",
    "    print(\"The factorial of 0 is 1\")\n",
    "else:\n",
    "    for i in range(1,n+ 1):\n",
    "        f = f*i\n",
    "print(\"The factorial of\",n,\"is\",f)"
   ]
  },
  {
   "cell_type": "code",
   "execution_count": 29,
   "id": "085ea315",
   "metadata": {},
   "outputs": [
    {
     "name": "stdout",
     "output_type": "stream",
     "text": [
      "Enter a number: 5\n",
      "{1: 1, 2: 4, 3: 9, 4: 16, 5: 25}\n"
     ]
    }
   ],
   "source": [
    "# Question 3\n",
    "n = int(input('Enter a number: '))\n",
    "Dic={}\n",
    "for i in range(1,n+1):\n",
    "    Dic[i]=i*i\n",
    "print(Dic)    "
   ]
  },
  {
   "cell_type": "code",
   "execution_count": 1,
   "id": "dfe57e85",
   "metadata": {},
   "outputs": [
    {
     "name": "stdout",
     "output_type": "stream",
     "text": [
      "Enter a string: azerty\n",
      "Enter a number: 0\n",
      "zerty\n"
     ]
    }
   ],
   "source": [
    "# Question 4\n",
    "s = str(input('Enter a string: '))\n",
    "n = int(input('Enter a number: '))\n",
    "if (n>=0 and n<len(s)):\n",
    "    l = list(s)\n",
    "    del(l[n])\n",
    "    s = \"\".join(l)\n",
    "    print(s)\n",
    "else :\n",
    "    print(\"enter a valid number\")"
   ]
  },
  {
   "cell_type": "code",
   "execution_count": 7,
   "id": "7b6b9825",
   "metadata": {},
   "outputs": [
    {
     "name": "stdout",
     "output_type": "stream",
     "text": [
      "Original array elements: [[4 0]\n",
      " [4 9]\n",
      " [9 7]]\n",
      "Array to list:  [[4, 0], [4, 9], [9, 7]]\n"
     ]
    }
   ],
   "source": [
    "# Question 5\n",
    "import numpy as np\n",
    "arr=np.random.randint(0,10,(3,2))\n",
    "list1 = arr.tolist()\n",
    "print(\"Original array elements:\",arr)\n",
    "print(\"Array to list: \",list1)"
   ]
  },
  {
   "cell_type": "code",
   "execution_count": 10,
   "id": "ec8ae944",
   "metadata": {},
   "outputs": [
    {
     "name": "stdout",
     "output_type": "stream",
     "text": [
      "[2 7 0]\n",
      "[3 7 1]\n",
      "[[13.         11.        ]\n",
      " [11.          9.33333333]]\n"
     ]
    }
   ],
   "source": [
    "# Question 6\n",
    "import numpy as np\n",
    "arr1=np.random.randint(0,10,(3))\n",
    "arr2=np.random.randint(0,10,(3))\n",
    "print(arr1)\n",
    "print(arr2)\n",
    "cov= np.cov(arr1,arr2)\n",
    "print(cov)"
   ]
  },
  {
   "cell_type": "code",
   "execution_count": 24,
   "id": "07607ced",
   "metadata": {},
   "outputs": [
    {
     "name": "stdout",
     "output_type": "stream",
     "text": [
      "Enter multiple values\n",
      "1, 589, 245, 12, 4\n",
      "[3, 1963, 817, 40, 13]\n"
     ]
    }
   ],
   "source": [
    "# Question 7\n",
    "C=50\n",
    "H=30\n",
    "L = list(map(int, input(\"Enter multiple values\\n\").split(', ')))\n",
    "L2=[]\n",
    "for i in range(len(L)):\n",
    "    L2.insert(i,round((2 * C *L[i])/H))\n",
    "print(L2)"
   ]
  },
  {
   "cell_type": "code",
   "execution_count": null,
   "id": "07299e45",
   "metadata": {},
   "outputs": [],
   "source": []
  }
 ],
 "metadata": {
  "kernelspec": {
   "display_name": "Python 3 (ipykernel)",
   "language": "python",
   "name": "python3"
  },
  "language_info": {
   "codemirror_mode": {
    "name": "ipython",
    "version": 3
   },
   "file_extension": ".py",
   "mimetype": "text/x-python",
   "name": "python",
   "nbconvert_exporter": "python",
   "pygments_lexer": "ipython3",
   "version": "3.9.7"
  }
 },
 "nbformat": 4,
 "nbformat_minor": 5
}
